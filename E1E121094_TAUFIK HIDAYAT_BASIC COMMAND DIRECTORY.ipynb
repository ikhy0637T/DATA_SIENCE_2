{
 "cells": [
  {
   "cell_type": "code",
   "execution_count": 10,
   "id": "5127cdf9",
   "metadata": {},
   "outputs": [
    {
     "name": "stdout",
     "output_type": "stream",
     "text": [
      "   Invoice No              Customer Name          Date  Invoice Amount\n",
      "0       13002   Lighthouse Entertainment   13 Jan 2020          $45.60\n",
      "1       13003           Main Street News   13 Jan 2020         $100.20\n",
      "2       13003             Lee Enterprise   14 Jan 2020          $30.00\n",
      "3       13004                 Raju Store   14 Jan 2020         $300.20\n"
     ]
    }
   ],
   "source": [
    "import pandas as pd\n",
    "\n",
    "df = pd.read_csv('invoices.csv')\n",
    "print(df)\n"
   ]
  },
  {
   "cell_type": "code",
   "execution_count": 11,
   "id": "e253a432",
   "metadata": {},
   "outputs": [
    {
     "name": "stdout",
     "output_type": "stream",
     "text": [
      "13002\n",
      "13003\n",
      "13003\n",
      "13004\n"
     ]
    }
   ],
   "source": [
    "for index, row in df.iterrows():\n",
    "    print(row['Invoice No'])"
   ]
  },
  {
   "cell_type": "code",
   "execution_count": 12,
   "id": "649384e5",
   "metadata": {},
   "outputs": [],
   "source": [
    "df = pd.read_csv('invoices.csv', header=0)"
   ]
  },
  {
   "cell_type": "code",
   "execution_count": 6,
   "id": "616d7106",
   "metadata": {},
   "outputs": [
    {
     "name": "stdout",
     "output_type": "stream",
     "text": [
      "['Invoice No', ' Customer Name', ' Date', ' Invoice Amount']\n"
     ]
    }
   ],
   "source": [
    "with open('invoices.csv', 'r') as file:\n",
    "    first_line = file.readline()\n",
    "\n",
    "header_names = first_line.strip().split(',')\n",
    "\n",
    "print(header_names)\n"
   ]
  },
  {
   "cell_type": "code",
   "execution_count": 13,
   "id": "3944d9e3",
   "metadata": {},
   "outputs": [
    {
     "name": "stdout",
     "output_type": "stream",
     "text": [
      "First header name: Invoice No\n"
     ]
    }
   ],
   "source": [
    "header_names = first_line.strip().split(',')\n",
    "\n",
    "print(\"First header name:\", header_names[0])\n"
   ]
  },
  {
   "cell_type": "code",
   "execution_count": 14,
   "id": "109334b0",
   "metadata": {},
   "outputs": [
    {
     "name": "stdout",
     "output_type": "stream",
     "text": [
      "First header name: Invoice No\n",
      "First element of the rest of the header names:\n",
      " Customer Name\n",
      " Date\n",
      " Invoice Amount\n"
     ]
    }
   ],
   "source": [
    "header_names = first_line.strip().split(',')\n",
    "\n",
    "print(\"First header name:\", header_names[0])\n",
    "\n",
    "print(\"First element of the rest of the header names:\")\n",
    "for header in header_names[1:]:\n",
    "    first_element = header.split(',')[0]\n",
    "    print(first_element)\n"
   ]
  },
  {
   "cell_type": "code",
   "execution_count": 9,
   "id": "0ec21a9a",
   "metadata": {},
   "outputs": [],
   "source": [
    "file.close()"
   ]
  }
 ],
 "metadata": {
  "kernelspec": {
   "display_name": "Python 3 (ipykernel)",
   "language": "python",
   "name": "python3"
  },
  "language_info": {
   "codemirror_mode": {
    "name": "ipython",
    "version": 3
   },
   "file_extension": ".py",
   "mimetype": "text/x-python",
   "name": "python",
   "nbconvert_exporter": "python",
   "pygments_lexer": "ipython3",
   "version": "3.10.9"
  }
 },
 "nbformat": 4,
 "nbformat_minor": 5
}
