{
 "cells": [
  {
   "cell_type": "code",
   "execution_count": 1,
   "id": "469065a2",
   "metadata": {},
   "outputs": [],
   "source": [
    "## Exercises"
   ]
  },
  {
   "cell_type": "code",
   "execution_count": null,
   "id": "0c419ad4",
   "metadata": {},
   "outputs": [],
   "source": [
    "Create the list in the cell below:"
   ]
  },
  {
   "cell_type": "code",
   "execution_count": null,
   "id": "1edbc2c0",
   "metadata": {},
   "outputs": [],
   "source": [
    "languages = [\"Java\", \"Python\", \"C++\", \"Kotlin\"]\n",
    "print(languages)"
   ]
  },
  {
   "cell_type": "code",
   "execution_count": null,
   "id": "0c4f6581",
   "metadata": {},
   "outputs": [],
   "source": [
    "Q1. Print the second element in the list using its index."
   ]
  },
  {
   "cell_type": "code",
   "execution_count": 2,
   "id": "b24cdcef",
   "metadata": {},
   "outputs": [
    {
     "name": "stdout",
     "output_type": "stream",
     "text": [
      "Python\n"
     ]
    }
   ],
   "source": [
    "languages = [\"Java\", \"Python\", \"C++\", \"Kotlin\"]\n",
    "print(languages[1])"
   ]
  },
  {
   "cell_type": "code",
   "execution_count": null,
   "id": "225bb470",
   "metadata": {},
   "outputs": [],
   "source": [
    "Q2. Print the last element in the list."
   ]
  },
  {
   "cell_type": "code",
   "execution_count": 3,
   "id": "e574e34c",
   "metadata": {},
   "outputs": [
    {
     "name": "stdout",
     "output_type": "stream",
     "text": [
      "Kotlin\n"
     ]
    }
   ],
   "source": [
    "languages = [\"Java\", \"Python\", \"C++\", \"Kotlin\"]\n",
    "print(languages[-1])"
   ]
  },
  {
   "cell_type": "code",
   "execution_count": null,
   "id": "36ae0034",
   "metadata": {},
   "outputs": [],
   "source": [
    "Q3. Using slicing, print the elements \"Java\" and \"C++\""
   ]
  },
  {
   "cell_type": "code",
   "execution_count": 4,
   "id": "a7ec4c5d",
   "metadata": {},
   "outputs": [
    {
     "name": "stdout",
     "output_type": "stream",
     "text": [
      "['Java', 'C++']\n"
     ]
    }
   ],
   "source": [
    "languages = [\"Java\", \"Python\", \"C++\", \"Kotlin\"]\n",
    "print(languages[::2])"
   ]
  },
  {
   "cell_type": "code",
   "execution_count": null,
   "id": "972ecc3c",
   "metadata": {},
   "outputs": [],
   "source": [
    "Q4. Add the language \"R\" in the list so that it appears *before* \"Python\""
   ]
  },
  {
   "cell_type": "code",
   "execution_count": 6,
   "id": "7a3566c0",
   "metadata": {},
   "outputs": [
    {
     "name": "stdout",
     "output_type": "stream",
     "text": [
      "['Java', 'R', 'Python', 'C++', 'Kotlin']\n"
     ]
    }
   ],
   "source": [
    "languages = [\"Java\", \"Python\", \"C++\", \"Kotlin\"]\n",
    "languages.insert(1, \"R\")\n",
    "print(languages)"
   ]
  },
  {
   "cell_type": "code",
   "execution_count": null,
   "id": "84d61406",
   "metadata": {},
   "outputs": [],
   "source": [
    "Q5. Remove the last element in the list"
   ]
  },
  {
   "cell_type": "code",
   "execution_count": 10,
   "id": "cbf6183a",
   "metadata": {},
   "outputs": [
    {
     "name": "stdout",
     "output_type": "stream",
     "text": [
      "['Java', 'Python', 'C++']\n"
     ]
    }
   ],
   "source": [
    "languages = [\"Java\", \"Python\", \"C++\", \"Kotlin\"]\n",
    "languages.pop(-1)\n",
    "print(languages)"
   ]
  },
  {
   "cell_type": "code",
   "execution_count": null,
   "id": "403a67d7",
   "metadata": {},
   "outputs": [],
   "source": [
    "Q6. Change the list to a tuple and run the cells for the rest of the commands that you have written. Which ones can execute without errors?\n"
   ]
  },
  {
   "cell_type": "code",
   "execution_count": 14,
   "id": "03f6fb98",
   "metadata": {},
   "outputs": [
    {
     "name": "stdout",
     "output_type": "stream",
     "text": [
      "Python\n"
     ]
    }
   ],
   "source": [
    "languages = (\"Java\", \"Python\", \"C++\", \"Kotlin\")\n",
    "print(languages[1])"
   ]
  },
  {
   "cell_type": "code",
   "execution_count": 15,
   "id": "271b01d1",
   "metadata": {},
   "outputs": [
    {
     "name": "stdout",
     "output_type": "stream",
     "text": [
      "Kotlin\n"
     ]
    }
   ],
   "source": [
    "languages = (\"Java\", \"Python\", \"C++\", \"Kotlin\")\n",
    "print(languages[-1])"
   ]
  },
  {
   "cell_type": "code",
   "execution_count": 16,
   "id": "76b62bba",
   "metadata": {},
   "outputs": [
    {
     "name": "stdout",
     "output_type": "stream",
     "text": [
      "('Java', 'C++')\n"
     ]
    }
   ],
   "source": [
    "languages = (\"Java\", \"Python\", \"C++\", \"Kotlin\")\n",
    "print(languages[::2])"
   ]
  },
  {
   "cell_type": "code",
   "execution_count": null,
   "id": "485ebf5e",
   "metadata": {},
   "outputs": [],
   "source": [
    "Q7. Change the list of a set and run the commands for the rest of the commands that you have written. Which ones can execute without errors? "
   ]
  },
  {
   "cell_type": "code",
   "execution_count": 18,
   "id": "aca26905",
   "metadata": {},
   "outputs": [
    {
     "name": "stdout",
     "output_type": "stream",
     "text": [
      "{'Kotlin', 'Java', 'C++', 'Python'}\n"
     ]
    }
   ],
   "source": [
    "languages = {\"Java\", \"Python\", \"C++\", \"Kotlin\"}\n",
    "print(languages)"
   ]
  }
 ],
 "metadata": {
  "kernelspec": {
   "display_name": "Python 3 (ipykernel)",
   "language": "python",
   "name": "python3"
  },
  "language_info": {
   "codemirror_mode": {
    "name": "ipython",
    "version": 3
   },
   "file_extension": ".py",
   "mimetype": "text/x-python",
   "name": "python",
   "nbconvert_exporter": "python",
   "pygments_lexer": "ipython3",
   "version": "3.10.9"
  }
 },
 "nbformat": 4,
 "nbformat_minor": 5
}
