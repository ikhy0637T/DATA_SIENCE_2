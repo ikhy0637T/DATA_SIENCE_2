{
 "cells": [
  {
   "cell_type": "code",
   "execution_count": 1,
   "id": "ca5c2f97",
   "metadata": {},
   "outputs": [],
   "source": [
    "import pandas as pd"
   ]
  },
  {
   "cell_type": "code",
   "execution_count": 2,
   "id": "f6fa7469",
   "metadata": {},
   "outputs": [],
   "source": [
    "irisdf = pd.read_csv('iris_csv.csv')"
   ]
  },
  {
   "cell_type": "code",
   "execution_count": 3,
   "id": "541243c6",
   "metadata": {},
   "outputs": [
    {
     "name": "stdout",
     "output_type": "stream",
     "text": [
      "sepallength    0\n",
      "sepalwidth     0\n",
      "petallength    0\n",
      "petalwidth     0\n",
      "class          0\n",
      "dtype: int64\n"
     ]
    }
   ],
   "source": [
    "#Q1\n",
    "missing_values = irisdf.isnull().sum()\n",
    "print(missing_values)"
   ]
  },
  {
   "cell_type": "code",
   "execution_count": 16,
   "id": "20001237",
   "metadata": {},
   "outputs": [
    {
     "name": "stdout",
     "output_type": "stream",
     "text": [
      "     sepallength  sepalwidth  petallength  petalwidth           class\n",
      "34           4.9         3.1          1.5         0.1     Iris-setosa\n",
      "37           4.9         3.1          1.5         0.1     Iris-setosa\n",
      "142          5.8         2.7          5.1         1.9  Iris-virginica\n"
     ]
    }
   ],
   "source": [
    "#Q2\n",
    "duplicate_rows = irisdf.duplicated()\n",
    "print(irisdf[duplicate_rows])"
   ]
  },
  {
   "cell_type": "code",
   "execution_count": 14,
   "id": "b40db22d",
   "metadata": {},
   "outputs": [
    {
     "name": "stdout",
     "output_type": "stream",
     "text": [
      "Mean Sepal Length: 5.843333333333334\n"
     ]
    }
   ],
   "source": [
    "#Q3\n",
    "mean_sepallength = irisdf['sepallength'].mean()\n",
    "print(\"Mean Sepal Length:\", mean_sepallength)"
   ]
  },
  {
   "cell_type": "code",
   "execution_count": 17,
   "id": "3916bdd5",
   "metadata": {},
   "outputs": [
    {
     "name": "stdout",
     "output_type": "stream",
     "text": [
      "     sepallength  sepalwidth  petallength  petalwidth           class\n",
      "34           4.9         3.1          1.5         0.1     Iris-setosa\n",
      "37           4.9         3.1          1.5         0.1     Iris-setosa\n",
      "142          5.8         2.7          5.1         1.9  Iris-virginica\n"
     ]
    }
   ],
   "source": [
    "#Q4\n",
    "duplicate_rows_after = irisdf.duplicated()\n",
    "print(irisdf[duplicate_rows_after])"
   ]
  },
  {
   "cell_type": "code",
   "execution_count": 18,
   "id": "d14a2ce3",
   "metadata": {},
   "outputs": [
    {
     "name": "stdout",
     "output_type": "stream",
     "text": [
      "     sepallength  sepalwidth  petallength  petalwidth           class\n",
      "0            5.1         3.5          1.4         0.2     Iris-setosa\n",
      "1            4.9         3.0          1.4         0.2     Iris-setosa\n",
      "2            4.7         3.2          1.3         0.2     Iris-setosa\n",
      "3            4.6         3.1          1.5         0.2     Iris-setosa\n",
      "4            5.0         3.6          1.4         0.2     Iris-setosa\n",
      "..           ...         ...          ...         ...             ...\n",
      "145          6.7         3.0          5.2         2.3  Iris-virginica\n",
      "146          6.3         2.5          5.0         1.9  Iris-virginica\n",
      "147          6.5         3.0          5.2         2.0  Iris-virginica\n",
      "148          6.2         3.4          5.4         2.3  Iris-virginica\n",
      "149          5.9         3.0          5.1         1.8  Iris-virginica\n",
      "\n",
      "[147 rows x 5 columns]\n"
     ]
    }
   ],
   "source": [
    "#Q5\n",
    "irisdf_no_duplicates = irisdf.drop_duplicates()\n",
    "print(irisdf_no_duplicates)"
   ]
  },
  {
   "cell_type": "code",
   "execution_count": 19,
   "id": "1816f75f",
   "metadata": {},
   "outputs": [
    {
     "name": "stdout",
     "output_type": "stream",
     "text": [
      "    sepallength  sepalwidth  petallength  petalwidth        class  sepal_width\n",
      "30          4.8         3.1          1.6         0.2  Iris-setosa          NaN\n",
      "31          5.4         3.4          1.5         0.4  Iris-setosa          NaN\n",
      "32          5.2         4.1          1.5         0.1  Iris-setosa          NaN\n",
      "33          5.5         4.2          1.4         0.2  Iris-setosa          NaN\n",
      "34          4.9         3.1          1.5         0.1  Iris-setosa          NaN\n",
      "35          5.0         3.2          1.2         0.2  Iris-setosa          NaN\n",
      "36          5.5         3.5          1.3         0.2  Iris-setosa          NaN\n",
      "37          4.9         3.1          1.5         0.1  Iris-setosa          NaN\n",
      "38          4.4         3.0          1.3         0.2  Iris-setosa          NaN\n",
      "39          5.1         3.4          1.5         0.2  Iris-setosa          NaN\n",
      "40          5.0         3.5          1.3         0.3  Iris-setosa          NaN\n"
     ]
    }
   ],
   "source": [
    "#Q6\n",
    "irisdf.loc[34, 'sepal_width'] = pd.NA\n",
    "print(irisdf.loc[30:40])"
   ]
  },
  {
   "cell_type": "code",
   "execution_count": 21,
   "id": "97abfbe4",
   "metadata": {},
   "outputs": [
    {
     "data": {
      "text/plain": [
       "sepallength            4.9\n",
       "sepalwidth             3.1\n",
       "petallength            1.5\n",
       "petalwidth             0.1\n",
       "class          Iris-setosa\n",
       "sepal_width            NaN\n",
       "Name: 34, dtype: object"
      ]
     },
     "execution_count": 21,
     "metadata": {},
     "output_type": "execute_result"
    }
   ],
   "source": [
    "irisdf.loc[34]"
   ]
  },
  {
   "cell_type": "code",
   "execution_count": 24,
   "id": "25decd22",
   "metadata": {},
   "outputs": [
    {
     "name": "stdout",
     "output_type": "stream",
     "text": [
      "Empty DataFrame\n",
      "Columns: [sepallength, sepalwidth, petallength, petalwidth, class, sepal_width]\n",
      "Index: []\n"
     ]
    }
   ],
   "source": [
    "#Q7\n",
    "rows_with_na = irisdf[irisdf.isna().any(axis=1)]\n",
    "print(rows_with_na)"
   ]
  },
  {
   "cell_type": "code",
   "execution_count": 23,
   "id": "d1839e3a",
   "metadata": {},
   "outputs": [
    {
     "name": "stdout",
     "output_type": "stream",
     "text": [
      "Empty DataFrame\n",
      "Columns: [sepallength, sepalwidth, petallength, petalwidth, class, sepal_width]\n",
      "Index: []\n"
     ]
    }
   ],
   "source": [
    "#Q8\n",
    "irisdf.dropna(inplace=True)\n",
    "print(irisdf)"
   ]
  }
 ],
 "metadata": {
  "kernelspec": {
   "display_name": "Python 3 (ipykernel)",
   "language": "python",
   "name": "python3"
  },
  "language_info": {
   "codemirror_mode": {
    "name": "ipython",
    "version": 3
   },
   "file_extension": ".py",
   "mimetype": "text/x-python",
   "name": "python",
   "nbconvert_exporter": "python",
   "pygments_lexer": "ipython3",
   "version": "3.10.9"
  }
 },
 "nbformat": 4,
 "nbformat_minor": 5
}
